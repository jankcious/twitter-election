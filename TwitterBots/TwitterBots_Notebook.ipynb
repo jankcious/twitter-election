{
 "cells": [
  {
   "cell_type": "code",
   "execution_count": null,
   "metadata": {
    "collapsed": false
   },
   "outputs": [
    {
     "name": "stdout",
     "output_type": "stream",
     "text": [
      "3novices\n",
      "('AwooMAGA', '::', 'exception')\n",
      "('DJStevenMichael', '::', 'exception')\n",
      "('DeplorableAdolf', '::', 'exception')\n",
      "('JGlltti', '::', 'exception')\n",
      "('JamesPaine33247', '::', 'exception')\n",
      "('LubeOfTheMuse', '::', 'exception')\n",
      "('RosencildNews', '::', 'exception')\n"
     ]
    }
   ],
   "source": [
    "import botornot\n",
    "import csv\n",
    "\n",
    "with open(\"usersGT500.csv\") as f1:\n",
    "    reader = csv.reader(f1, delimiter=\",\")\n",
    "    users_df = list(reader)\n",
    "    \n",
    "print users_df[0][0]\n",
    "\n",
    "twitter_app_auth = {\n",
    "    'consumer_key': 'SwtSzHjTH7cUEH5MZLrturdsq',\n",
    "    'consumer_secret': 'Df9GaO2Qp8DJSKEvYxM9R5imAnslQmKtGhWHAoUSTU8k0tvkt6',\n",
    "    'access_token': '799126415597715456-YeelP6GLNr42B4z2W3lvcKxivrjIVan',\n",
    "    'access_token_secret': 'i4y5xyXevTKoRjLotFG0mJRAJrZbLkmu9GsjOrOLQXw1r'\n",
    "}\n",
    "\n",
    "bon = botornot.BotOrNot(**twitter_app_auth)\n",
    "\n",
    "fName = 'TwitterBotOutputGT500.csv'\n",
    "fw = open(fName, 'wb')\n",
    "w = csv.writer(fw, delimiter = ',')\n",
    "#for i in range(10):\n",
    "for i in range(len(users_df)):\n",
    "    account = '@' + users_df[i][0]    \n",
    "    try :\n",
    "        result = bon.check_account(account)\n",
    "        w.writerow([result['meta']['screen_name'],result['score'],result['categories']['content_classification'],\n",
    "           result['categories']['temporal_classification'],  result['categories']['network_classification'],result['categories']['friend_classification'],\n",
    "           result['categories']['sentiment_classification'], result['categories']['user_classification']])\n",
    "    except:\n",
    "        print(users_df[i][0], '::', 'exception')\n",
    "        pass   \n",
    "fw.close()\n",
    "print('done')\n"
   ]
  }
 ],
 "metadata": {
  "anaconda-cloud": {},
  "kernelspec": {
   "display_name": "Python [default]",
   "language": "python",
   "name": "python2"
  },
  "language_info": {
   "codemirror_mode": {
    "name": "ipython",
    "version": 2
   },
   "file_extension": ".py",
   "mimetype": "text/x-python",
   "name": "python",
   "nbconvert_exporter": "python",
   "pygments_lexer": "ipython2",
   "version": "2.7.12"
  }
 },
 "nbformat": 4,
 "nbformat_minor": 0
}
