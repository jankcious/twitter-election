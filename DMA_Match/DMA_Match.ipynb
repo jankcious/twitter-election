{
 "cells": [
  {
   "cell_type": "code",
   "execution_count": 12,
   "metadata": {
    "collapsed": false
   },
   "outputs": [
    {
     "name": "stdout",
     "output_type": "stream",
     "text": [
      "Las Vegas, NV\n",
      "Portland-Auburn ME\n"
     ]
    }
   ],
   "source": [
    "import csv\n",
    "with open(\"ads_dma.csv\") as f1:\n",
    "    reader = csv.reader(f1, delimiter=\"\\t\")\n",
    "    ads_dma_df = list(reader)\n",
    "    \n",
    "#print ads_dma_df[0][0]\n",
    "\n",
    "with open(\"all_dma.csv\") as f2:\n",
    "    reader = csv.reader(f2, delimiter=\",\")\n",
    "    all_dma_df = list(reader)    \n",
    "    \n",
    "#print all_dma_df[0][0]"
   ]
  },
  {
   "cell_type": "code",
   "execution_count": 25,
   "metadata": {
    "collapsed": false
   },
   "outputs": [
    {
     "name": "stdout",
     "output_type": "stream",
     "text": [
      "Las Vegas, NV : Las Vegas NV\n",
      "Raleigh-Durham-Fayetteville,  NC : Raleigh-Durham (Fayetteville) NC\n",
      "Tampa-St. Petersburg, FL : Tampa-St.Petersburg (Sarasota) FL\n",
      "Cleveland, Ohio : Cleveland-Akron (Canton) OH\n",
      "Ceder Rapids-Waterloo-Iowa City-Dublin, Iowa : Cedar Rapids-Waterloo-Iowa City & Dubuque IA\n",
      "Philadelphia, PA : Philadelphia PA\n",
      "Denver, CO : Denver CO\n",
      "Milwaukee, WI : Milwaukee WI\n",
      "San Francisco-Oakland-San Jose, CA : San Francisco-Oakland-San Jose CA\n",
      "Phoenix-Prescott, AZ : Phoenix (Prescott) AZ\n",
      "Boston, MA/Manchester, NH : Boston MA (Manchester NH)\n",
      "Cincinnati, OH : Cincinnati OH\n",
      "Norfolk-Portsmouth-Newport News, NC : Norfolk-Portsmouth-Newport News VA\n",
      "Greenville-Spartanburg, SC/Asheville-Anderson, NC : Greenville-Spartanburg SC-Asheville NC-Anderson SC\n",
      "Washington, DC/Hagerstown, MD : Washington DC (Hagerstown MD)\n",
      "New York City, NY : New York NY\n",
      "Miami-Fort Lauderdale, FL : Miami-Ft. Lauderdale FL\n",
      "Orlando-Daytona Beach-Melbourne, FL : Orlando-Daytona Beach-Melbourne FL\n",
      "Sioux City, Iowa : Sioux City IA\n",
      "Reno, NV : Reno NV\n",
      "Des Moines-Ames, Iowa : Des Moines-Ames IA\n",
      "Charlotte, NC : Charlotte NC\n",
      "Colorado Springs-Pueblo, CO : Colorado Springs-Pueblo CO\n",
      "Columbia, SC : Columbia SC\n",
      "Roanoke-Lynchburg, VA : Roanoke-Lynchburg VA\n"
     ]
    }
   ],
   "source": [
    "fName = 'matches_dma.csv'\n",
    "fw = open(fName, 'wb')\n",
    "w = csv.writer(fw, delimiter = ',')\n",
    "for i in range(len(ads_dma_df)):\n",
    "    max_ratio = 0\n",
    "    index = -1\n",
    "    for j in range(len(all_dma_df)):\n",
    "        ratio = difflib.SequenceMatcher(None,ads_dma_df[i][0], all_dma_df[j][0]).ratio()\n",
    "        if ratio > max_ratio:\n",
    "            max_ratio = ratio\n",
    "            index = j\n",
    "    if j > -1:\n",
    "        print ads_dma_df[i][0] , ':', all_dma_df[index][0]        \n",
    "        w.writerow([ads_dma_df[i][0],all_dma_df[index][0]])     \n",
    "fw.close()"
   ]
  }
 ],
 "metadata": {
  "anaconda-cloud": {},
  "kernelspec": {
   "display_name": "Python [default]",
   "language": "python",
   "name": "python2"
  },
  "language_info": {
   "codemirror_mode": {
    "name": "ipython",
    "version": 2
   },
   "file_extension": ".py",
   "mimetype": "text/x-python",
   "name": "python",
   "nbconvert_exporter": "python",
   "pygments_lexer": "ipython2",
   "version": "2.7.12"
  }
 },
 "nbformat": 4,
 "nbformat_minor": 0
}
